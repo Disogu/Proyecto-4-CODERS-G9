{
 "cells": [
  {
   "cell_type": "code",
   "execution_count": null,
   "id": "34527460-d86b-44e9-b7fd-c4abb5697e07",
   "metadata": {},
   "outputs": [],
   "source": [
    "# 1. Librerías\n",
    "import numpy as np\n",
    "from tensorflow.keras.models import load_model\n",
    "from sklearn.metrics import mean_squared_error, mean_absolute_error\n",
    "import joblib\n",
    "import mlflow\n",
    "import mlflow.tensorflow\n",
    "# 2. Cargar datos\n",
    "X_test = np.load(\"X_test.npy\")\n",
    "y_test = np.load(\"y_test.npy\")\n",
    "# 3. Cargar modelo (opcional si ya está entrenado)\n",
    "# model = load_model(\"lstm_model.h5\")\n",
    "# 4. Predicción\n",
    "y_pred = model.predict(X_test)\n",
    "# 5. Métricas\n",
    "mse = mean_squared_error(y_test, y_pred)\n",
    "mae = mean_absolute_error(y_test, y_pred)\n",
    "print(\"MSE:\", mse)\n",
    "print(\"MAE:\", mae)\n",
    "# 6. Exportar modelo y scaler\n",
    "model.save(\"lstm_model.h5\")\n",
    "joblib.dump(scaler, \"scaler.pkl\")\n",
    "# 7. Logging MLflow\n",
    "with mlflow.start_run():\n",
    "    mlflow.log_param(\"model_type\", \"LSTM\")\n",
    "    mlflow.log_metric(\"MSE\", mse)\n",
    "    mlflow.log_metric(\"MAE\", mae)\n",
    "    mlflow.tensorflow.log_model(model, artifact_path=\"model\")\n",
    "    mlflow.log_artifact(\"scaler.pkl\")\n",
    "print(\"Modelo y artefactos registrados con éxito en MLflow\")\n"
   ]
  }
 ],
 "metadata": {
  "kernelspec": {
   "display_name": "Python [conda env:base] *",
   "language": "python",
   "name": "conda-base-py"
  },
  "language_info": {
   "codemirror_mode": {
    "name": "ipython",
    "version": 3
   },
   "file_extension": ".py",
   "mimetype": "text/x-python",
   "name": "python",
   "nbconvert_exporter": "python",
   "pygments_lexer": "ipython3",
   "version": "3.12.7"
  }
 },
 "nbformat": 4,
 "nbformat_minor": 5
}
