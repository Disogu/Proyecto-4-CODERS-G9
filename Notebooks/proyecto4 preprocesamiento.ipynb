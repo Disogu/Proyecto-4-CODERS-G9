{
 "cells": [
  {
   "cell_type": "code",
   "execution_count": null,
   "id": "78968ee9-65ed-4529-8668-d777c0874d8d",
   "metadata": {},
   "outputs": [],
   "source": [
    "# 1. Librerías\n",
    "import pandas as pd\n",
    "import numpy as np\n",
    "from sklearn.preprocessing import MinMaxScaler\n",
    "import matplotlib.pyplot as plt\n",
    "# 2. Normalización\n",
    "scaler = MinMaxScaler()\n",
    "df['Temp_scaled'] = scaler.fit_transform(df[['Temp']])\n",
    "# 3. Transformar en secuencias\n",
    "def create_sequences(data, seq_length=30):\n",
    "    X, y = [], []\n",
    "    for i in range(len(data) - seq_length):\n",
    "        X.append(data[i:i+seq_length])\n",
    "        y.append(data[i+seq_length])\n",
    "    return np.array(X), np.array(y)\n",
    "seq_len = 30\n",
    "X, y = create_sequences(df['Temp_scaled'].values, seq_len)\n",
    "# 4. División train/test (80/20 temporal)\n",
    "split = int(len(X) * 0.8)\n",
    "X_train, y_train = X[:split], y[:split]\n",
    "X_test, y_test = X[split:], y[split:]\n",
    "# 5. Guardar datos\n",
    "np.save(\"X_train.npy\", X_train)\n",
    "np.save(\"y_train.npy\", y_train)\n",
    "np.save(\"X_test.npy\", X_test)\n",
    "np.save(\"y_test.npy\", y_test)\n"
   ]
  }
 ],
 "metadata": {
  "kernelspec": {
   "display_name": "Python [conda env:base] *",
   "language": "python",
   "name": "conda-base-py"
  },
  "language_info": {
   "codemirror_mode": {
    "name": "ipython",
    "version": 3
   },
   "file_extension": ".py",
   "mimetype": "text/x-python",
   "name": "python",
   "nbconvert_exporter": "python",
   "pygments_lexer": "ipython3",
   "version": "3.12.7"
  }
 },
 "nbformat": 4,
 "nbformat_minor": 5
}
