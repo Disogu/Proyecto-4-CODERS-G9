{
 "cells": [
  {
   "cell_type": "code",
   "execution_count": null,
   "id": "c863a36a-3fec-4c35-8212-a6a1b4137e75",
   "metadata": {},
   "outputs": [],
   "source": [
    "# 1. Librerías\n",
    "import numpy as np\n",
    "import tensorflow as tf\n",
    "from tensorflow.keras.models import Sequential\n",
    "from tensorflow.keras.layers import LSTM, Dense\n",
    "import mlflow\n",
    "import mlflow.tensorflow\n",
    "# 2. Cargar datos\n",
    "X_train = np.load(\"X_train.npy\")\n",
    "y_train = np.load(\"y_train.npy\")\n",
    "X_test = np.load(\"X_test.npy\")\n",
    "y_test = np.load(\"y_test.npy\")\n",
    "# 3. Construcción del modelo\n",
    "model = Sequential([\n",
    "    LSTM(64, input_shape=(X_train.shape[1], 1), return_sequences=False),\n",
    "    Dense(1)\n",
    "])\n",
    "model.compile(loss='mse', optimizer='adam', metrics=['mae'])\n",
    "# 4. Callback MLflow\n",
    "mlflow.tensorflow.autolog()\n",
    "# 5. Entrenamiento\n",
    "with mlflow.start_run():\n",
    "    history = model.fit(X_train, y_train, validation_data=(X_test, y_test), epochs=20, batch_size=32)\n"
   ]
  }
 ],
 "metadata": {
  "kernelspec": {
   "display_name": "Python [conda env:base] *",
   "language": "python",
   "name": "conda-base-py"
  },
  "language_info": {
   "codemirror_mode": {
    "name": "ipython",
    "version": 3
   },
   "file_extension": ".py",
   "mimetype": "text/x-python",
   "name": "python",
   "nbconvert_exporter": "python",
   "pygments_lexer": "ipython3",
   "version": "3.12.7"
  }
 },
 "nbformat": 4,
 "nbformat_minor": 5
}
